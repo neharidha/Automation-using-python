{
  "nbformat": 4,
  "nbformat_minor": 0,
  "metadata": {
    "colab": {
      "provenance": [],
      "authorship_tag": "ABX9TyO52ACbM+L0tG8j8zbNV1ay",
      "include_colab_link": true
    },
    "kernelspec": {
      "name": "python3",
      "display_name": "Python 3"
    },
    "language_info": {
      "name": "python"
    }
  },
  "cells": [
    {
      "cell_type": "markdown",
      "metadata": {
        "id": "view-in-github",
        "colab_type": "text"
      },
      "source": [
        "<a href=\"https://colab.research.google.com/github/neharidha/Automation-using-python/blob/main/Untitled20.ipynb\" target=\"_parent\"><img src=\"https://colab.research.google.com/assets/colab-badge.svg\" alt=\"Open In Colab\"/></a>"
      ]
    },
    {
      "cell_type": "code",
      "execution_count": null,
      "metadata": {
        "id": "z7LtVrAINSeq"
      },
      "outputs": [],
      "source": [
        "def update_file(import_file, remove_list):\n",
        "    with open(import_file, \"r\") as file:\n",
        "        ip_addresses = file.read()\n",
        "\n",
        "    ip_addresses = ip_addresses.split()\n",
        "\n",
        "    for element in remove_list:\n",
        "\n",
        "        if element in ip_addresses:\n",
        "\n",
        "            ip_addresses.remove(element)\n",
        "\n",
        "    ip_addresses = \"\\n\".join(ip_addresses)\n",
        "\n",
        "\n",
        "    with open(import_file, \"w\") as file:\n",
        "\n",
        "\n",
        "        file.write(ip_addresses)\n",
        "\n",
        "update_file(\"data/allow_list.txt\", [\"192.168.25.60\", \"192.168.90.124\", \"192.168.60.153\"])\n",
        "\n",
        "\n",
        "\n",
        "with open(\"allow_list.txt\", \"r\") as file:\n",
        "\n",
        "    text = file.read()\n",
        "\n",
        "\n",
        "print(text)"
      ]
    }
  ]
}